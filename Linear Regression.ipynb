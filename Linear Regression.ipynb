{
 "metadata": {
  "name": ""
 },
 "nbformat": 3,
 "nbformat_minor": 0,
 "worksheets": [
  {
   "cells": [
    {
     "cell_type": "code",
     "collapsed": false,
     "input": [
      "import random\n",
      "import numpy as np\n",
      "import pylab as plt\n",
      "import scipy.optimize as optimize\n",
      "\n",
      "%matplotlib inline\n",
      "\n",
      "def read_data(filename):\n",
      "    with open(filename) as f:\n",
      "        data = []\n",
      "        for line in f:\n",
      "            house = map(float, line.split())\n",
      "            house_price = house[-1]\n",
      "            house[-1] = 1\n",
      "            data.append([house, house_price])\n",
      "        random.shuffle(data)\n",
      "    data = zip(*data)\n",
      "    return np.array(data[0]), np.array(data[1])\n",
      "\n",
      "X, y = read_data(\"housing.data\")\n",
      "\n",
      "train_X = X[:400].T\n",
      "train_y = y[:400].T\n",
      "train_n = len(train_y)\n",
      "\n",
      "test_X = X[400:].T\n",
      "test_y = y[400:].T\n",
      "test_n = len(test_y)\n",
      "\n",
      "d = len(test_X)"
     ],
     "language": "python",
     "metadata": {},
     "outputs": [],
     "prompt_number": 45
    },
    {
     "cell_type": "code",
     "collapsed": false,
     "input": [
      "def linear_regression_fun(X, y):\n",
      "    # X is d x n\n",
      "    # y is 1 x n\n",
      "    def f(theta):\n",
      "        # theta is d x 1\n",
      "        x = np.dot(theta.T, X) - y\n",
      "        J = .5 * np.dot(x, x)\n",
      "        dJ = np.dot(x, X.T)\n",
      "        return J, dJ\n",
      "    return f"
     ],
     "language": "python",
     "metadata": {},
     "outputs": [],
     "prompt_number": 46
    },
    {
     "cell_type": "code",
     "collapsed": false,
     "input": [
      "theta0 = np.random.uniform(size=(d, 1))\n",
      "theta = optimize.minimize(linear_regression_fun(train_X, train_y), theta0, jac=True).x"
     ],
     "language": "python",
     "metadata": {},
     "outputs": [],
     "prompt_number": 47
    },
    {
     "cell_type": "code",
     "collapsed": false,
     "input": [
      "x = np.array([np.arange(test_n)])\n",
      "y = np.array([test_y])\n",
      "y2 = np.array([np.dot(theta.T, test_X)])\n",
      "y, y2, x = np.sort(np.append(np.append(y, y2, axis=0), x, axis=0).T, axis=0).T\n",
      "\n",
      "plt.plot(x, y, 'bx', x, y2, 'rx')\n",
      "plt.show()"
     ],
     "language": "python",
     "metadata": {},
     "outputs": [
      {
       "metadata": {},
       "output_type": "display_data",
       "png": "[encoded data removed]",
       "text": [
        "<matplotlib.figure.Figure at 0x7fee327a3790>"
       ]
      }
     ],
     "prompt_number": 67
    },
    {
     "cell_type": "code",
     "collapsed": false,
     "input": [
      "def RMS_error(theta, X, y):\n",
      "    my_y = np.dot(theta.T, X)\n",
      "    x = my_y - y\n",
      "    n = len(y)\n",
      "    return np.sqrt(np.dot(x, x) / n)\n",
      "\n",
      "print \"Train RMS =\", RMS_error(theta, train_X, train_y)\n",
      "print \"Test RMS =\", RMS_error(theta, test_X, test_y)"
     ],
     "language": "python",
     "metadata": {},
     "outputs": [
      {
       "output_type": "stream",
       "stream": "stdout",
       "text": [
        "Train RMS = 4.60974474697\n",
        "Test RMS = 5.17660418995\n"
       ]
      }
     ],
     "prompt_number": 49
    },
    {
     "cell_type": "code",
     "collapsed": false,
     "input": [],
     "language": "python",
     "metadata": {},
     "outputs": [],
     "prompt_number": 49
    }
   ],
   "metadata": {}
  }
 ]
}