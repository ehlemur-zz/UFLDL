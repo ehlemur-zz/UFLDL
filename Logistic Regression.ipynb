{
 "metadata": {
  "name": ""
 },
 "nbformat": 3,
 "nbformat_minor": 0,
 "worksheets": [
  {
   "cells": [
    {
     "cell_type": "code",
     "collapsed": false,
     "input": [
      "import numpy as np\n",
      "import pylab as plt\n",
      "import scipy.optimize as optimize\n",
      "\n",
      "def read_byte(f):\n",
      "    return ord(f.read(1))\n",
      "\n",
      "def read_int32(f):\n",
      "    answer = 0\n",
      "    p = 256 ** 3\n",
      "    for i in range(4):\n",
      "        answer += read_byte(f) * p\n",
      "        p >>= 8\n",
      "    return answer\n",
      "\n",
      "def read_image(f, h, w):\n",
      "    img = [float(read_byte(f))  for i in range(h*w)]\n",
      "    img = np.append(img, 1)\n",
      "                       \n",
      "    return img\n",
      "\n",
      "def read_images(filename):\n",
      "    with open(filename, \"rb\") as f:\n",
      "        magic = read_int32(f)\n",
      "        assert(magic == 2051)\n",
      "        n_img = read_int32(f)\n",
      "        n_img = 10000\n",
      "        h = read_int32(f)\n",
      "        w = read_int32(f)\n",
      "        return np.array([read_image(f, h, w)  for i in range(n_img)]).T\n",
      "    \n",
      "def read_labels(filename):\n",
      "    with open(filename, \"rb\") as f:\n",
      "        magic = read_int32(f)\n",
      "        assert(magic == 2049)\n",
      "        n_labels = read_int32(f)\n",
      "        n_labels = 10000\n",
      "        return np.array([read_byte(f)  for i in range(n_labels)])\n",
      "    \n",
      "def filter_binary(imgs, labels):\n",
      "    return imgs[:,labels<2], labels[labels<2]\n",
      "\n",
      "def shuffle(imgs, labels):\n",
      "    p = np.random.permutation(labels.shape[0])\n",
      "    return imgs[:,p], labels[p]\n",
      "\n",
      "def read_data(prefix):\n",
      "    imgs = read_images(prefix + \"_images\")\n",
      "    labels = read_labels(prefix + \"_labels\")\n",
      "    \n",
      "    imgs, labels = shuffle(*filter_binary(imgs, labels))\n",
      "    \n",
      "    imgs -= np.array([np.mean(imgs, axis=1)]).T\n",
      "    imgs /= np.array([np.std(imgs, axis=1)+.1]).T\n",
      "    \n",
      "    return imgs, labels\n"
     ],
     "language": "python",
     "metadata": {},
     "outputs": [
      {
       "output_type": "stream",
       "stream": "stdout",
       "text": [
        "\n"
       ]
      }
     ],
     "prompt_number": 6
    },
    {
     "cell_type": "code",
     "collapsed": false,
     "input": [
      "train_imgs, train_labels = read_data(\"train\")\n",
      "test_imgs, test_labels = read_data(\"test\")\n",
      "\n",
      "train_n = train_labels.shape[0]\n",
      "test_n = test_labels.shape[0]\n",
      "d = train_imgs.shape[0]"
     ],
     "language": "python",
     "metadata": {},
     "outputs": [],
     "prompt_number": 7
    },
    {
     "cell_type": "code",
     "collapsed": false,
     "input": [
      "def sigmoid(x):\n",
      "    return 1 / (1 + np.exp(-x))\n",
      "\n",
      "def logistic_regression_fun(X, y):\n",
      "    # X is d x n\n",
      "    # y is 1 x n\n",
      "    def f(theta):\n",
      "        # theta is d x 1\n",
      "        my_y = sigmoid(np.dot(theta.T, X))\n",
      "        J = - np.dot(y, np.log(my_y).T) - np.dot((1 - y), np.log(1 - my_y).T)\n",
      "        dJ = np.dot(X, (my_y - y).T)\n",
      "        return J, dJ\n",
      "    return f"
     ],
     "language": "python",
     "metadata": {},
     "outputs": [],
     "prompt_number": 58
    },
    {
     "cell_type": "code",
     "collapsed": false,
     "input": [
      "theta0 = np.random.uniform(size=(d,1)) * .001\n",
      "theta = optimize.minimize(logistic_regression_fun(train_imgs, train_labels), theta0, jac=True, method='CG').x\n",
      "print optimize.minimize(logistic_regression_fun(train_imgs, train_labels), theta0, jac=True, method='CG').message"
     ],
     "language": "python",
     "metadata": {},
     "outputs": [
      {
       "output_type": "stream",
       "stream": "stdout",
       "text": [
        "Optimization terminated successfully.\n"
       ]
      }
     ],
     "prompt_number": 61
    },
    {
     "cell_type": "code",
     "collapsed": false,
     "input": [
      "def RMS_error(theta, X, y):\n",
      "    my_y = np.rint(sigmoid(np.dot(theta.T, X)))\n",
      "    x = my_y - y\n",
      "    n = len(y)\n",
      "    return np.sqrt(np.dot(x, x) / n)\n",
      "\n",
      "print \"Train RMS =\", RMS_error(theta, train_imgs, train_labels)\n",
      "print \"Test RMS =\", RMS_error(theta, test_imgs, test_labels)"
     ],
     "language": "python",
     "metadata": {},
     "outputs": [
      {
       "output_type": "stream",
       "stream": "stdout",
       "text": [
        "Train RMS = 0.0\n",
        "Test RMS = 0.0217442691018\n"
       ]
      }
     ],
     "prompt_number": 62
    },
    {
     "cell_type": "code",
     "collapsed": false,
     "input": [
      "\n"
     ],
     "language": "python",
     "metadata": {},
     "outputs": [],
     "prompt_number": 113
    },
    {
     "cell_type": "code",
     "collapsed": false,
     "input": [],
     "language": "python",
     "metadata": {},
     "outputs": [],
     "prompt_number": 113
    }
   ],
   "metadata": {}
  }
 ]
}