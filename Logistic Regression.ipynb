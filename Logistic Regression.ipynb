{
 "metadata": {
  "name": ""
 },
 "nbformat": 3,
 "nbformat_minor": 0,
 "worksheets": [
  {
   "cells": [
    {
     "cell_type": "code",
     "collapsed": false,
     "input": [
      "import numpy as np\n",
      "\n",
      "def read_byte(f):\n",
      "    return ord(f.read(1))\n",
      "\n",
      "def read_int32(f):\n",
      "    answer = 0\n",
      "    p = 256 ** 3\n",
      "    for i in range(4):\n",
      "        answer += read_byte(f) * p\n",
      "        p >>= 8\n",
      "    return answer\n",
      "\n",
      "def read_image(f, h, w):\n",
      "    img = np.array([read_byte(f)  for i in range(h * w)])\n",
      "    img -= np.mean(img)\n",
      "    img /= np.std(img)\n",
      "    return img\n",
      "\n",
      "def read_images(filename):\n",
      "    with open(filename, \"rb\") as f:\n",
      "        magic = read_int32(f)\n",
      "        assert(magic == 2051)\n",
      "        n_img = read_int32(f)\n",
      "        h = read_int32(f)\n",
      "        w = read_int32(f)\n",
      "        return np.array([read_image(f, h, w)  for i in range(n_img)]).T\n",
      "    \n",
      "def read_labels(filename):\n",
      "    with open(filename, \"rb\") as f:\n",
      "        magic = read_int32(f)\n",
      "        assert(magic == 2049)\n",
      "        n_labels = read_int32(f)\n",
      "        return np.array([read_byte(f, h, w)  for i in range(n_img)]).T"
     ],
     "language": "python",
     "metadata": {},
     "outputs": [],
     "prompt_number": 22
    },
    {
     "cell_type": "code",
     "collapsed": false,
     "input": [
      "read_images(\"train_images\").shape"
     ],
     "language": "python",
     "metadata": {},
     "outputs": [
      {
       "metadata": {},
       "output_type": "pyout",
       "prompt_number": 23,
       "text": [
        "(784, 60000)"
       ]
      }
     ],
     "prompt_number": 23
    },
    {
     "cell_type": "code",
     "collapsed": false,
     "input": [],
     "language": "python",
     "metadata": {},
     "outputs": [],
     "prompt_number": 14
    },
    {
     "cell_type": "code",
     "collapsed": false,
     "input": [],
     "language": "python",
     "metadata": {},
     "outputs": []
    }
   ],
   "metadata": {}
  }
 ]
}