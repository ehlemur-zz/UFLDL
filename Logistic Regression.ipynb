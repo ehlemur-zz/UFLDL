{
 "metadata": {
  "name": ""
 },
 "nbformat": 3,
 "nbformat_minor": 0,
 "worksheets": [
  {
   "cells": [
    {
     "cell_type": "code",
     "collapsed": false,
     "input": [
      "import numpy as np\n",
      "\n",
      "def read_byte(f):\n",
      "    return ord(f.read(1))\n",
      "\n",
      "def read_int32(f):\n",
      "    answer = 0\n",
      "    p = 256 ** 3\n",
      "    for i in range(4):\n",
      "        answer += read_byte(f) * p\n",
      "        p >>= 8\n",
      "    return answer\n",
      "\n",
      "def read_image(f, h, w):\n",
      "    img = np.array([read_byte(f)  for i in range(h * w)])\n",
      "    img -= np.mean(img)\n",
      "    img /= np.std(img)\n",
      "    img = np.append(img, 1)\n",
      "    return img\n",
      "\n",
      "def read_images(filename):\n",
      "    with open(filename, \"rb\") as f:\n",
      "        magic = read_int32(f)\n",
      "        assert(magic == 2051)\n",
      "        n_img = read_int32(f)\n",
      "        h = read_int32(f)\n",
      "        w = read_int32(f)\n",
      "        return np.array([read_image(f, h, w)  for i in range(n_img)]).T\n",
      "    \n",
      "def read_labels(filename):\n",
      "    with open(filename, \"rb\") as f:\n",
      "        magic = read_int32(f)\n",
      "        assert(magic == 2049)\n",
      "        n_labels = read_int32(f)\n",
      "        return np.array([read_byte(f)  for i in range(n_labels)])\n",
      "    \n",
      "def filter_binary(imgs, labels):\n",
      "    return imgs[:,labels<2], labels[labels<2]\n",
      "\n",
      "def shuffle(imgs, labels):\n",
      "    p = np.random.permutation(labels.shape[0])\n",
      "    return imgs[:,p], labels[p]\n",
      "\n",
      "def read_data(prefix):\n",
      "    imgs = read_images(prefix + \"_images\")\n",
      "    labels = read_labels(prefix + \"_labels\")\n",
      "    return shuffle(*filter_binary(imgs, labels))\n"
     ],
     "language": "python",
     "metadata": {},
     "outputs": [],
     "prompt_number": 36
    },
    {
     "cell_type": "code",
     "collapsed": false,
     "input": [
      "train_imgs, train_labels = read_data(\"train\")\n",
      "test_imgs, test_labels = read_data(\"test\")"
     ],
     "language": "python",
     "metadata": {},
     "outputs": [],
     "prompt_number": 37
    },
    {
     "cell_type": "code",
     "collapsed": false,
     "input": [
      "def sigmoid(theta, x):\n",
      "    return 1 / (1 + np.exp(-np.dot(theta.T, x)))\n",
      "\n",
      "def logistic_regression(X, y):\n",
      "    def f(theta):\n",
      "        \n",
      "    return f"
     ],
     "language": "python",
     "metadata": {},
     "outputs": []
    }
   ],
   "metadata": {}
  }
 ]
}